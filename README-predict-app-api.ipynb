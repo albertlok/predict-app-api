{
 "cells": [
  {
   "cell_type": "markdown",
   "metadata": {},
   "source": [
    "# Section 3: ML API\n",
    "\n",
    "Deploy (on a cloud provider [AWS, Azure, etc] or locally [docker, kubernetes, etc] ) an ML model ([MNIST](https://paperswithcode.com/dataset/mnist), [Fashion MNIST](https://github.com/zalandoresearch/fashion-mnist), as an API endpoint. Provide reproducible code with documentation for both deployment and usage.\n",
    "\n",
    "Notes: procedure and code adapted from https://towardsdatascience.com/serverless-deployment-of-machine-learning-models-on-aws-lambda-5bd1ca9b5c42\n",
    "\n",
    "## Introduction\n",
    "\n",
    "This code deploys a machine learning model as a lambda function.\n",
    "\n",
    "## Steps:\n",
    "1. Set up the working environment by integrating AWS CLI on our machine and initialize a S3 bucket as a data store.\n",
    "2. Train a K-Nearest Neighbor classifier which we will deploy as a docker container\n",
    "3. Deploy as a lambda function with AWS SAM"
   ]
  },
  {
   "cell_type": "markdown",
   "metadata": {},
   "source": [
    "## Step 1: Prerequisites\n",
    "\n",
    "1. [AWS account](https://aws.amazon.com/free)\n",
    "2. [AWS CLI](https://docs.aws.amazon.com/cli/latest/userguide/getting-started-install.html) and [Set up AWS CLI](https://medium.com/@lloyd.hamilton/setting-up-aws-cli-credentials-65d0a5fc0c4e)\n",
    "3. [AWS Serverless Application Model CLI](https://docs.aws.amazon.com/serverless-application-model/latest/developerguide/serverless-sam-cli-install.html)\n",
    "4. [Docker](https://docs.docker.com/get-docker/)\n",
    "5. [Python 3.9.7](https://www.python.org/downloads/release/python-397/)\n",
    "6. [Poetry](https://python-poetry.org/) for Python package management tool\n",
    "7. Python libraries: the requirements.txt file is included in the Git repository\n",
    "8. [Project repository](https://github.com/albertlok/predict-app-api): https://github.com/albertlok/predict-app-api"
   ]
  },
  {
   "cell_type": "markdown",
   "metadata": {},
   "source": [
    "## Step 2: Train KNN Classifier, validate the model, and save locally"
   ]
  },
  {
   "cell_type": "code",
   "execution_count": 3,
   "metadata": {},
   "outputs": [
    {
     "data": {
      "text/plain": [
       "(-0.5, 27.5, 27.5, -0.5)"
      ]
     },
     "execution_count": 3,
     "metadata": {},
     "output_type": "execute_result"
    },
    {
     "data": {
      "image/png": "[encoded data removed]",
      "text/plain": [
       "<Figure size 432x288 with 1 Axes>"
      ]
     },
     "metadata": {
      "needs_background": "light"
     },
     "output_type": "display_data"
    }
   ],
   "source": [
    "from sklearn.datasets import fetch_openml\n",
    "import matplotlib.pyplot as plt\n",
    "import pandas as pd\n",
    "\n",
    "# Load data\n",
    "mnist = fetch_openml(\"mnist_784\", version=1)\n",
    "\n",
    "# Get data from original dataset\n",
    "mnist_data = (\n",
    "    mnist\n",
    "    .data\n",
    ")\n",
    "\n",
    "# Slice target by the same row sampling\n",
    "target = (\n",
    "    mnist\n",
    "    .target\n",
    "    .loc[mnist_data.index].astype('uint8')\n",
    ")\n",
    "\n",
    "# Reshape values to be 28x28\n",
    "some_digit_image = (\n",
    "    mnist_data\n",
    "    .iloc[0]\n",
    "    .values\n",
    "    .reshape(28,28)\n",
    "    .astype('float32')\n",
    ")\n",
    "plt.imshow(some_digit_image, cmap = \"binary\")\n",
    "plt.axis(\"off\")"
   ]
  },
  {
   "cell_type": "code",
   "execution_count": 4,
   "metadata": {},
   "outputs": [
    {
     "name": "stdout",
     "output_type": "stream",
     "text": [
      "Cross Validation Scores: [0.97053571 0.97178571 0.97357143 0.97357143 0.97571429 0.97571429\n",
      " 0.97767857 0.97035714 0.97285714 0.97125   ]\n",
      "Average accuracy: 0.9733035714285713\n"
     ]
    }
   ],
   "source": [
    "from sklearn.model_selection import train_test_split\n",
    "from sklearn.neighbors import  KNeighborsClassifier\n",
    "from sklearn.model_selection import cross_val_score\n",
    "import numpy as np\n",
    "\n",
    "# Function to train KNN Classifier and show scores\n",
    "def train_knn_model(features:np.array, target:np.array):\n",
    "\n",
    "    # Train KNN Classifier\n",
    "    knnclf = KNeighborsClassifier(weights='distance', n_neighbors=4)\n",
    "    knnclf.fit(features, target)\n",
    "    scores = cross_val_score(\n",
    "        knnclf, features, target, scoring='accuracy', cv=10\n",
    "    )\n",
    "    print(f'Cross Validation Scores: {scores}')\n",
    "    print(f'Average accuracy: {np.mean(scores)}')\n",
    "    return knnclf, scores\n",
    "\n",
    "# Split data to training and test set\n",
    "train_features, test_features, train_target, test_target = train_test_split(\n",
    "        mnist_data, target, test_size = 0.2, random_state = 42\n",
    ")\n",
    "knnclf, scores = train_knn_model(train_features, train_target)"
   ]
  },
  {
   "cell_type": "markdown",
   "metadata": {},
   "source": [
    "Validation shows an accuracy of 97%.  Now we evaluate the model's performance on the test_features data set and plot a confusion matrix with the show_cm function as shown below."
   ]
  },
  {
   "cell_type": "code",
   "execution_count": 5,
   "metadata": {
    "scrolled": true
   },
   "outputs": [
    {
     "name": "stdout",
     "output_type": "stream",
     "text": [
      "Accuracy: 0.9731428571428572\n"
     ]
    },
    {
     "data": {
      "image/png": "[encoded data removed]",
      "text/plain": [
       "<Figure size 432x288 with 2 Axes>"
      ]
     },
     "metadata": {
      "needs_background": "light"
     },
     "output_type": "display_data"
    }
   ],
   "source": [
    "import numpy as np\n",
    "from sklearn.metrics import confusion_matrix, ConfusionMatrixDisplay\n",
    "from sklearn.metrics import accuracy_score\n",
    "\n",
    "def show_cm(y_true, y_pred, labels):\n",
    "\n",
    "    # Display Confusion matrix and show accuracy scores\n",
    "    conf_mat = confusion_matrix(y_true, y_pred, labels=labels)\n",
    "    disp = ConfusionMatrixDisplay(confusion_matrix=conf_mat, display_labels=labels)\n",
    "    score = accuracy_score(y_true, y_pred)\n",
    "    print(f'Accuracy: {score}')\n",
    "    disp.plot();\n",
    "\n",
    "# Make predictions\n",
    "test_target_pred = knnclf.predict(test_features)\n",
    "# Show confusion matrix\n",
    "show_cm(test_target, test_target_pred, range(10))"
   ]
  },
  {
   "cell_type": "code",
   "execution_count": 6,
   "metadata": {
    "scrolled": true
   },
   "outputs": [
    {
     "data": {
      "text/plain": [
       "['app/knnclf.joblib']"
      ]
     },
     "execution_count": 6,
     "metadata": {},
     "output_type": "execute_result"
    }
   ],
   "source": [
    "# save the model locally to be containerized as part of the lambda function using Docker.\n",
    "\n",
    "import joblib\n",
    "\n",
    "joblib.dump(knnclf, 'app/knnclf.joblib')"
   ]
  },
  {
   "cell_type": "markdown",
   "metadata": {},
   "source": [
    "## Step 3: Deploy as a lambda function with AWS SAM\n",
    "\n",
    "These are the components of deployment to AWS:\n",
    "1. S3 Bucket to store data.\n",
    "2. API gateway to manage HTTP requests.\n",
    "3. Lambda function containing the predictive logic.\n",
    "\n",
    "![](overview.png)\n",
    "\n",
    "#### Serverless deployment of ML models\n",
    "\n",
    "1. Test data is uploaded to a S3 bucket.\n",
    "\n",
    "2. To initiate the lambda function, a POST HTTP request is sent through the Amazon API Gateway. \n",
    "\n",
    "3. Initialisation of the lambda function executes code that downloads the data from the S3 bucket and performs predictions. \n",
    "\n",
    "4. A HTTP response is returned to client with the predictions as a data payload.\n",
    "\n",
    "The Lambda function will contain Python code that performs a prediction based on the test_features dataset stored on a S3 bucket. \n",
    "\n",
    "***Note:*** If running all the code, the `bucket_name` has to be unique therefore you will have to replace the bucket_name with a name that is not taken."
   ]
  },
  {
   "cell_type": "code",
   "execution_count": null,
   "metadata": {},
   "outputs": [],
   "source": [
    "# Do not run this if using the bucket I created (recommended)\n",
    "# Ensure that the AWS user has permissions to create and access S3 buckets as well as Lambda (I used root user)\n",
    "\n",
    "import boto3\n",
    "\n",
    "def create_bucket(region:str, bucket_name:str) -> dict:\n",
    "\n",
    "    s3 = boto3.client('s3')\n",
    "    response = s3.create_bucket(\n",
    "        Bucket=bucket_name,\n",
    "        CreateBucketConfiguration={\n",
    "            'LocationConstraint':region\n",
    "        }\n",
    "    )\n",
    "    return response\n",
    "\n",
    "region = 'us-west-1'\n",
    "bucket_name = 'lh-lambda-buckets-2022-08-24-alok-test'\n",
    "create_bucket(region, bucket_name)"
   ]
  },
  {
   "cell_type": "markdown",
   "metadata": {},
   "source": [
    "#### Upload Test data to S3\n",
    "\n",
    "The S3 bucket will host our test_features data set which we can call in our lambda function to perform a prediction.\n",
    "\n",
    "The bucket variable defines the destination S3 bucket and the key variable will define the file path in the bucket. The `bucket` and `key` variables will form part of the data payload in the POST HTTP request to our lambda function."
   ]
  },
  {
   "cell_type": "code",
   "execution_count": 9,
   "metadata": {},
   "outputs": [],
   "source": [
    "from io import BytesIO\n",
    "import joblib\n",
    "import boto3\n",
    "\n",
    "def UploadToS3(data, bucket:str, key:str):\n",
    "\n",
    "    with BytesIO() as f:\n",
    "        joblib.dump(data, f)\n",
    "        f.seek(0)\n",
    "        (\n",
    "            boto3\n",
    "            .client('s3')\n",
    "            .upload_fileobj(Bucket=bucket, Key=key, Fileobj=f)\n",
    "        )\n",
    "\n",
    "bucket_name = 'lh-lambda-buckets-2022-08-24-alok-test'\n",
    "key =  'validation/test_features.joblib'\n",
    "UploadToS3(test_features, bucket_name, key)"
   ]
  },
  {
   "cell_type": "markdown",
   "metadata": {},
   "source": [
    "#### List all objects in S3 bucket\n",
    "\n",
    "We can check if the objects have been uploaded with the helper function below. list_s3_objects will list all objects in the defined bucket."
   ]
  },
  {
   "cell_type": "code",
   "execution_count": 10,
   "metadata": {},
   "outputs": [
    {
     "data": {
      "text/plain": [
       "['numpy.zip',\n",
       " 'scikit-learn.zip',\n",
       " 'sklearn.zip',\n",
       " 'validation/test_features.joblib']"
      ]
     },
     "execution_count": 10,
     "metadata": {},
     "output_type": "execute_result"
    }
   ],
   "source": [
    "def listS3Objects(bucket:str) -> list:\n",
    "\n",
    "     # Connect to s3 resource\n",
    "    s3 = boto3.resource('s3')\n",
    "    my_bucket = s3.Bucket(bucket)\n",
    "\n",
    "    # List all object keys in s3 bucket\n",
    "    obj_list = [object_summary.key for object_summary in my_bucket.objects.all()]\n",
    "    return obj_list\n",
    "\n",
    "listS3Objects(bucket_name)"
   ]
  },
  {
   "cell_type": "markdown",
   "metadata": {},
   "source": [
    "We have now successfully initialised a S3 bucket to store the test_feature data.\n",
    "\n",
    "The next two key resources, API Gateway and lambda function, will be deployed using AWS Serverless Application Model (SAM)."
   ]
  },
  {
   "cell_type": "markdown",
   "metadata": {},
   "source": [
    "#### Deploying on AWS Lambda\n",
    "\n",
    "Steps:\n",
    "1. Build the application in SAM.\n",
    "\n",
    "```bash\n",
    "`sam build -t template.yaml`\n",
    "```\n",
    "\n",
    "2. Deploy the application.\n",
    "\n",
    "```bash\n",
    "`sam deploy --guided`\n",
    "```\n",
    "\n",
    "Follow the prompts that guides you through the deployment configurations.\n",
    "\n",
    "3.  If running in your own AWS account, invoke your function by replacing the URL in the code below with the URL from the output out of a successfully deployed stack."
   ]
  },
  {
   "cell_type": "code",
   "execution_count": 11,
   "metadata": {},
   "outputs": [
    {
     "name": "stdout",
     "output_type": "stream",
     "text": [
      "Accuracy: 0.9731428571428572\n"
     ]
    },
    {
     "data": {
      "image/png": "[encoded data removed]",
      "text/plain": [
       "<Figure size 432x288 with 2 Axes>"
      ]
     },
     "metadata": {
      "needs_background": "light"
     },
     "output_type": "display_data"
    }
   ],
   "source": [
    "import requests\n",
    "import json\n",
    "import numpy as np\n",
    "\n",
    "bucket_name = 'lh-lambda-buckets-2022-08-24-alok-test'\n",
    "key =  'validation/test_features.joblib'\n",
    "\n",
    "data = {\n",
    "    'bucket':bucket_name,\n",
    "    'key':key,\n",
    "}\n",
    "\n",
    "headers = {\n",
    "    'Content-type': \"application/json\"\n",
    "}\n",
    "\n",
    "# Main code for post HTTP request\n",
    "url = \"https://b6lornzdwgu54gjsy2zaryoux40fxfxn.lambda-url.us-west-1.on.aws/\"\n",
    "response = requests.request(\"POST\", url, headers=headers, json=data)\n",
    "lambda_predictions = np.array(response.json())\n",
    "show_cm(test_target, lambda_predictions, range(10))"
   ]
  },
  {
   "cell_type": "code",
   "execution_count": 13,
   "metadata": {},
   "outputs": [
    {
     "name": "stdout",
     "output_type": "stream",
     "text": [
      "[NbConvertApp] Converting notebook README-predict-app-api.ipynb to html\n",
      "[NbConvertApp] Writing 330613 bytes to README-predict-app-api.html\n"
     ]
    }
   ],
   "source": [
    "#### Export of Jupyter notebook\n",
    "!jupyter nbconvert README-predict-app-api.ipynb --to html --template classic"
   ]
  }
 ],
 "metadata": {
  "interpreter": {
   "hash": "919d5182d6e251f85cfea4f0d38d6cd16b39376b792c9ccd6a31cc8ff7d08ddb"
  },
  "kernelspec": {
   "display_name": "Python 3 (ipykernel)",
   "language": "python",
   "name": "python3"
  },
  "language_info": {
   "codemirror_mode": {
    "name": "ipython",
    "version": 3
   },
   "file_extension": ".py",
   "mimetype": "text/x-python",
   "name": "python",
   "nbconvert_exporter": "python",
   "pygments_lexer": "ipython3",
   "version": "3.9.12"
  },
  "varInspector": {
   "cols": {
    "lenName": 16,
    "lenType": 16,
    "lenVar": 40
   },
   "kernels_config": {
    "python": {
     "delete_cmd_postfix": "",
     "delete_cmd_prefix": "del ",
     "library": "var_list.py",
     "varRefreshCmd": "print(var_dic_list())"
    },
    "r": {
     "delete_cmd_postfix": ") ",
     "delete_cmd_prefix": "rm(",
     "library": "var_list.r",
     "varRefreshCmd": "cat(var_dic_list()) "
    }
   },
   "types_to_exclude": [
    "module",
    "function",
    "builtin_function_or_method",
    "instance",
    "_Feature"
   ],
   "window_display": false
  }
 },
 "nbformat": 4,
 "nbformat_minor": 2
}
